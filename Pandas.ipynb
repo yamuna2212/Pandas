{
 "cells": [
  {
   "cell_type": "code",
   "execution_count": 6,
   "id": "ec4454e5",
   "metadata": {
    "scrolled": true
   },
   "outputs": [
    {
     "name": "stdout",
     "output_type": "stream",
     "text": [
      "     user_id  age gender     occupation zip_code\n",
      "0          1   24      M     technician    85711\n",
      "1          2   53      F          other    94043\n",
      "2          3   23      M         writer    32067\n",
      "3          4   24      M     technician    43537\n",
      "4          5   33      F          other    15213\n",
      "..       ...  ...    ...            ...      ...\n",
      "938      939   26      F        student    33319\n",
      "939      940   32      M  administrator    02215\n",
      "940      941   20      M        student    97229\n",
      "941      942   48      F      librarian    78209\n",
      "942      943   22      M        student    77841\n",
      "\n",
      "[943 rows x 5 columns]\n"
     ]
    }
   ],
   "source": [
    "import pandas as pd\n",
    "\n",
    "url = 'https://raw.githubusercontent.com/justmarkham/DAT8/master/data/u.user'\n",
    "\n",
    "users = pd.read_csv(url, sep='|')\n",
    "\n",
    "print(users)\n"
   ]
  },
  {
   "cell_type": "markdown",
   "id": "cc073113",
   "metadata": {},
   "source": [
    "### Assign it to a variable called users and use the 'user_id' as index\n"
   ]
  },
  {
   "cell_type": "code",
   "execution_count": 11,
   "id": "5804ac22",
   "metadata": {},
   "outputs": [
    {
     "name": "stdout",
     "output_type": "stream",
     "text": [
      "         age gender     occupation zip_code\n",
      "user_id                                    \n",
      "1         24      M     technician    85711\n",
      "2         53      F          other    94043\n",
      "3         23      M         writer    32067\n",
      "4         24      M     technician    43537\n",
      "5         33      F          other    15213\n",
      "...      ...    ...            ...      ...\n",
      "939       26      F        student    33319\n",
      "940       32      M  administrator    02215\n",
      "941       20      M        student    97229\n",
      "942       48      F      librarian    78209\n",
      "943       22      M        student    77841\n",
      "\n",
      "[943 rows x 4 columns]\n"
     ]
    }
   ],
   "source": [
    "import pandas as pd\n",
    "\n",
    "url = 'https://raw.githubusercontent.com/justmarkham/DAT8/master/data/u.user'\n",
    "users = pd.read_csv(url, sep='|', index_col='user_id')\n",
    "\n",
    "print(users)\n"
   ]
  },
  {
   "cell_type": "markdown",
   "id": "94949d2b",
   "metadata": {},
   "source": [
    "### See the first 10 and last 10 entries\n"
   ]
  },
  {
   "cell_type": "code",
   "execution_count": 13,
   "id": "fce3743d",
   "metadata": {},
   "outputs": [
    {
     "name": "stdout",
     "output_type": "stream",
     "text": [
      "--------First 10 entries -------\n",
      "   user_id  age gender     occupation zip_code\n",
      "0        1   24      M     technician    85711\n",
      "1        2   53      F          other    94043\n",
      "2        3   23      M         writer    32067\n",
      "3        4   24      M     technician    43537\n",
      "4        5   33      F          other    15213\n",
      "5        6   42      M      executive    98101\n",
      "6        7   57      M  administrator    91344\n",
      "7        8   36      M  administrator    05201\n",
      "8        9   29      M        student    01002\n",
      "9       10   53      M         lawyer    90703\n",
      "--------Last 10 entries --------\n",
      "     user_id  age gender     occupation zip_code\n",
      "933      934   61      M       engineer    22902\n",
      "934      935   42      M         doctor    66221\n",
      "935      936   24      M          other    32789\n",
      "936      937   48      M       educator    98072\n",
      "937      938   38      F     technician    55038\n",
      "938      939   26      F        student    33319\n",
      "939      940   32      M  administrator    02215\n",
      "940      941   20      M        student    97229\n",
      "941      942   48      F      librarian    78209\n",
      "942      943   22      M        student    77841\n"
     ]
    }
   ],
   "source": [
    "import pandas as pd\n",
    "\n",
    "url = 'https://raw.githubusercontent.com/justmarkham/DAT8/master/data/u.user'\n",
    "\n",
    "users = pd.read_csv(url, sep='|')\n",
    "\n",
    "print(\"--------First 10 entries -------\")\n",
    "print(users.head(10)) \n",
    "print(\"--------Last 10 entries --------\")\n",
    "\n",
    "print(users.tail(10))\n"
   ]
  },
  {
   "cell_type": "markdown",
   "id": "1de66f5f",
   "metadata": {},
   "source": [
    "### What is the number of observations in the dataset?\n"
   ]
  },
  {
   "cell_type": "code",
   "execution_count": 14,
   "id": "f77d354c",
   "metadata": {},
   "outputs": [
    {
     "name": "stdout",
     "output_type": "stream",
     "text": [
      "Number of observations : 943\n"
     ]
    }
   ],
   "source": [
    "import pandas as pd\n",
    "\n",
    "url = 'https://raw.githubusercontent.com/justmarkham/DAT8/master/data/u.user'\n",
    "\n",
    "users = pd.read_csv(url, sep='|')\n",
    "\n",
    "num_rows = users.shape[0]\n",
    "\n",
    "print(\"Number of observations :\", num_rows)\n"
   ]
  },
  {
   "cell_type": "markdown",
   "id": "d9086d27",
   "metadata": {},
   "source": [
    "### What is the number of columns in the dataset?\n"
   ]
  },
  {
   "cell_type": "code",
   "execution_count": 16,
   "id": "dca5d44a",
   "metadata": {},
   "outputs": [
    {
     "name": "stdout",
     "output_type": "stream",
     "text": [
      "Number of columns in the dataset: 5\n"
     ]
    }
   ],
   "source": [
    "import pandas as pd\n",
    "\n",
    "url = 'https://raw.githubusercontent.com/justmarkham/DAT8/master/data/u.user'\n",
    "\n",
    "users = pd.read_csv(url, sep='|')\n",
    "\n",
    "num_cols = users.shape[1]\n",
    "\n",
    "print(\"Number of columns in the dataset:\", num_cols)\n"
   ]
  },
  {
   "cell_type": "markdown",
   "id": "4a58577b",
   "metadata": {},
   "source": [
    "### Print the name of all the columns.\n"
   ]
  },
  {
   "cell_type": "code",
   "execution_count": 18,
   "id": "1bca530a",
   "metadata": {
    "scrolled": true
   },
   "outputs": [
    {
     "name": "stdout",
     "output_type": "stream",
     "text": [
      "Index(['user_id', 'age', 'gender', 'occupation', 'zip_code'], dtype='object')\n"
     ]
    }
   ],
   "source": [
    "import pandas as pd\n",
    "\n",
    "url = 'https://raw.githubusercontent.com/justmarkham/DAT8/master/data/u.user'\n",
    "\n",
    "users = pd.read_csv(url, sep='|')\n",
    "\n",
    "print(users.columns)\n"
   ]
  },
  {
   "cell_type": "markdown",
   "id": "b5caa25d",
   "metadata": {},
   "source": [
    "### How is the dataset indexed?\n"
   ]
  },
  {
   "cell_type": "code",
   "execution_count": 16,
   "id": "5c1cc0c4",
   "metadata": {},
   "outputs": [
    {
     "name": "stdout",
     "output_type": "stream",
     "text": [
      "Int64Index([  1,   2,   3,   4,   5,   6,   7,   8,   9,  10,\n",
      "            ...\n",
      "            934, 935, 936, 937, 938, 939, 940, 941, 942, 943],\n",
      "           dtype='int64', name='user_id', length=943)\n"
     ]
    }
   ],
   "source": [
    "import pandas as pd\n",
    "\n",
    "url = 'https://raw.githubusercontent.com/justmarkham/DAT8/master/data/u.user'\n",
    "users = pd.read_csv(url, sep='|', index_col='user_id')\n",
    "\n",
    "print(users.index)\n"
   ]
  },
  {
   "cell_type": "markdown",
   "id": "ac87ffa3",
   "metadata": {},
   "source": [
    "### What is the data type of each column?\n"
   ]
  },
  {
   "cell_type": "code",
   "execution_count": 22,
   "id": "cbf66912",
   "metadata": {
    "scrolled": true
   },
   "outputs": [
    {
     "name": "stdout",
     "output_type": "stream",
     "text": [
      "user_id        int64\n",
      "age            int64\n",
      "gender        object\n",
      "occupation    object\n",
      "zip_code      object\n",
      "dtype: object\n"
     ]
    }
   ],
   "source": [
    "import pandas as pd\n",
    "\n",
    "url = 'https://raw.githubusercontent.com/justmarkham/DAT8/master/data/u.user'\n",
    "\n",
    "users = pd.read_csv(url, sep='|')\n",
    "\n",
    "print(users.dtypes)\n",
    "\n"
   ]
  },
  {
   "cell_type": "markdown",
   "id": "307b5e22",
   "metadata": {},
   "source": [
    "### Print only the occupation column\n"
   ]
  },
  {
   "cell_type": "code",
   "execution_count": 23,
   "id": "3ab41156",
   "metadata": {
    "scrolled": false
   },
   "outputs": [
    {
     "name": "stdout",
     "output_type": "stream",
     "text": [
      "0         technician\n",
      "1              other\n",
      "2             writer\n",
      "3         technician\n",
      "4              other\n",
      "           ...      \n",
      "938          student\n",
      "939    administrator\n",
      "940          student\n",
      "941        librarian\n",
      "942          student\n",
      "Name: occupation, Length: 943, dtype: object\n"
     ]
    }
   ],
   "source": [
    "import pandas as pd\n",
    "\n",
    "url = 'https://raw.githubusercontent.com/justmarkham/DAT8/master/data/u.user'\n",
    "\n",
    "users = pd.read_csv(url, sep='|')\n",
    "\n",
    "print(users['occupation'])\n"
   ]
  },
  {
   "cell_type": "markdown",
   "id": "4dca88ba",
   "metadata": {},
   "source": [
    "###  How many different occupations are in this dataset?\n"
   ]
  },
  {
   "cell_type": "code",
   "execution_count": 25,
   "id": "4d1ec169",
   "metadata": {},
   "outputs": [
    {
     "name": "stdout",
     "output_type": "stream",
     "text": [
      "Number of occupations: 21\n"
     ]
    }
   ],
   "source": [
    "import pandas as pd\n",
    "\n",
    "url = 'https://raw.githubusercontent.com/justmarkham/DAT8/master/data/u.user'\n",
    "\n",
    "users = pd.read_csv(url, sep='|')\n",
    "num_occupations = users['occupation'].nunique()\n",
    "print('Number of occupations:', num_occupations)\n",
    "\n"
   ]
  },
  {
   "cell_type": "markdown",
   "id": "12e94fd3",
   "metadata": {},
   "source": [
    "### What is the most frequent occupation?\n"
   ]
  },
  {
   "cell_type": "code",
   "execution_count": 27,
   "id": "8e07c2d9",
   "metadata": {},
   "outputs": [
    {
     "name": "stdout",
     "output_type": "stream",
     "text": [
      "Most frequent occupation: student\n"
     ]
    }
   ],
   "source": [
    "import pandas as pd\n",
    "\n",
    "url = 'https://raw.githubusercontent.com/justmarkham/DAT8/master/data/u.user'\n",
    "\n",
    "users = pd.read_csv(url, sep='|')\n",
    "most_frequent_occupation = users['occupation'].value_counts().idxmax()\n",
    "print('Most frequent occupation:', most_frequent_occupation)\n"
   ]
  },
  {
   "cell_type": "markdown",
   "id": "2b383bdf",
   "metadata": {},
   "source": [
    "### DataFrame Info.\n"
   ]
  },
  {
   "cell_type": "code",
   "execution_count": 28,
   "id": "a3be310c",
   "metadata": {},
   "outputs": [
    {
     "name": "stdout",
     "output_type": "stream",
     "text": [
      "<class 'pandas.core.frame.DataFrame'>\n",
      "RangeIndex: 943 entries, 0 to 942\n",
      "Data columns (total 5 columns):\n",
      " #   Column      Non-Null Count  Dtype \n",
      "---  ------      --------------  ----- \n",
      " 0   user_id     943 non-null    int64 \n",
      " 1   age         943 non-null    int64 \n",
      " 2   gender      943 non-null    object\n",
      " 3   occupation  943 non-null    object\n",
      " 4   zip_code    943 non-null    object\n",
      "dtypes: int64(2), object(3)\n",
      "memory usage: 37.0+ KB\n"
     ]
    }
   ],
   "source": [
    "users.info()\n"
   ]
  },
  {
   "cell_type": "markdown",
   "id": "403f6dda",
   "metadata": {},
   "source": [
    "### Describe all the columns\n"
   ]
  },
  {
   "cell_type": "code",
   "execution_count": 29,
   "id": "2105b36d",
   "metadata": {},
   "outputs": [
    {
     "name": "stdout",
     "output_type": "stream",
     "text": [
      "           user_id         age gender occupation zip_code\n",
      "count   943.000000  943.000000    943        943      943\n",
      "unique         NaN         NaN      2         21      795\n",
      "top            NaN         NaN      M    student    55414\n",
      "freq           NaN         NaN    670        196        9\n",
      "mean    472.000000   34.051962    NaN        NaN      NaN\n",
      "std     272.364951   12.192740    NaN        NaN      NaN\n",
      "min       1.000000    7.000000    NaN        NaN      NaN\n",
      "25%     236.500000   25.000000    NaN        NaN      NaN\n",
      "50%     472.000000   31.000000    NaN        NaN      NaN\n",
      "75%     707.500000   43.000000    NaN        NaN      NaN\n",
      "max     943.000000   73.000000    NaN        NaN      NaN\n"
     ]
    }
   ],
   "source": [
    "print(users.describe(include='all'))\n"
   ]
  },
  {
   "cell_type": "markdown",
   "id": "fe8e5770",
   "metadata": {},
   "source": [
    "### Summarize only the occupation column\n"
   ]
  },
  {
   "cell_type": "code",
   "execution_count": 31,
   "id": "85385336",
   "metadata": {},
   "outputs": [
    {
     "name": "stdout",
     "output_type": "stream",
     "text": [
      "student          196\n",
      "other            105\n",
      "educator          95\n",
      "administrator     79\n",
      "engineer          67\n",
      "programmer        66\n",
      "librarian         51\n",
      "writer            45\n",
      "executive         32\n",
      "scientist         31\n",
      "artist            28\n",
      "technician        27\n",
      "marketing         26\n",
      "entertainment     18\n",
      "healthcare        16\n",
      "retired           14\n",
      "lawyer            12\n",
      "salesman          12\n",
      "none               9\n",
      "homemaker          7\n",
      "doctor             7\n",
      "Name: occupation, dtype: int64\n"
     ]
    }
   ],
   "source": [
    "occupation_counts = users['occupation'].value_counts()\n",
    "print(occupation_counts)\n"
   ]
  },
  {
   "cell_type": "markdown",
   "id": "9ce1e59f",
   "metadata": {},
   "source": [
    "### What is the mean age of users?\n"
   ]
  },
  {
   "cell_type": "code",
   "execution_count": 32,
   "id": "ae0a2877",
   "metadata": {},
   "outputs": [
    {
     "name": "stdout",
     "output_type": "stream",
     "text": [
      "Mean age of users: 34.05196182396607\n"
     ]
    }
   ],
   "source": [
    "mean_age = users['age'].mean()\n",
    "print('Mean age of users:', mean_age)\n"
   ]
  },
  {
   "cell_type": "markdown",
   "id": "2336ca83",
   "metadata": {},
   "source": [
    "### What is the age with least occurrence?\n"
   ]
  },
  {
   "cell_type": "code",
   "execution_count": 41,
   "id": "8e4b136d",
   "metadata": {},
   "outputs": [
    {
     "name": "stdout",
     "output_type": "stream",
     "text": [
      " least occurrence: 7\n"
     ]
    }
   ],
   "source": [
    "age_counts = users['age'].value_counts()\n",
    "min_age_count = age_counts.min()\n",
    "min_age = age_counts[age_counts == min_age_count].index[0]\n",
    "print(' least occurrence:', min_age)\n"
   ]
  },
  {
   "cell_type": "code",
   "execution_count": 9,
   "id": "8c057cd5",
   "metadata": {},
   "outputs": [
    {
     "name": "stdout",
     "output_type": "stream",
     "text": [
      "         age gender  occupation zip_code\n",
      "user_id                                 \n",
      "1         24      M  technician    85711\n",
      "2         53      F       other    94043\n",
      "3         23      M      writer    32067\n",
      "4         24      M  technician    43537\n",
      "5         33      F       other    15213\n"
     ]
    }
   ],
   "source": [
    "import pandas as pd\n",
    "\n",
    "url = 'https://raw.githubusercontent.com/justmarkham/DAT8/master/data/u.user'\n",
    "users = pd.read_csv(url, sep='|', index_col='user_id')\n",
    "\n",
    "# Print the first few rows of the dataset to verify it was imported correctly\n",
    "print(users.head())\n"
   ]
  }
 ],
 "metadata": {
  "kernelspec": {
   "display_name": "Python 3 (ipykernel)",
   "language": "python",
   "name": "python3"
  },
  "language_info": {
   "codemirror_mode": {
    "name": "ipython",
    "version": 3
   },
   "file_extension": ".py",
   "mimetype": "text/x-python",
   "name": "python",
   "nbconvert_exporter": "python",
   "pygments_lexer": "ipython3",
   "version": "3.10.1"
  }
 },
 "nbformat": 4,
 "nbformat_minor": 5
}
